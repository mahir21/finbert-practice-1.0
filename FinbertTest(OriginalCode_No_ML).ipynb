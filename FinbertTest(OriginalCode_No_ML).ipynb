{
  "cells": [
    {
      "cell_type": "markdown",
      "metadata": {
        "id": "view-in-github",
        "colab_type": "text"
      },
      "source": [
        "<a href=\"https://colab.research.google.com/github/mahir21/finbert-practice-1.0/blob/main/FinbertTest(OriginalCode_No_ML).ipynb\" target=\"_parent\"><img src=\"https://colab.research.google.com/assets/colab-badge.svg\" alt=\"Open In Colab\"/></a>"
      ]
    },
    {
      "cell_type": "code",
      "execution_count": null,
      "metadata": {
        "colab": {
          "base_uri": "https://localhost:8080/"
        },
        "id": "qoFQJMx_AyFs",
        "outputId": "b92d1639-20c5-4a17-9b45-79f0d052046d"
      },
      "outputs": [
        {
          "name": "stdout",
          "output_type": "stream",
          "text": [
            "Requirement already satisfied: transformers in c:\\users\\arman\\appdata\\local\\programs\\python\\python311\\lib\\site-packages (4.34.0)\n",
            "Requirement already satisfied: filelock in c:\\users\\arman\\appdata\\local\\programs\\python\\python311\\lib\\site-packages (from transformers) (3.9.0)\n",
            "Requirement already satisfied: huggingface-hub<1.0,>=0.16.4 in c:\\users\\arman\\appdata\\local\\programs\\python\\python311\\lib\\site-packages (from transformers) (0.17.3)\n",
            "Requirement already satisfied: numpy>=1.17 in c:\\users\\arman\\appdata\\local\\programs\\python\\python311\\lib\\site-packages (from transformers) (1.24.1)\n",
            "Requirement already satisfied: packaging>=20.0 in c:\\users\\arman\\appdata\\local\\programs\\python\\python311\\lib\\site-packages (from transformers) (23.1)\n",
            "Requirement already satisfied: pyyaml>=5.1 in c:\\users\\arman\\appdata\\local\\programs\\python\\python311\\lib\\site-packages (from transformers) (6.0.1)\n",
            "Requirement already satisfied: regex!=2019.12.17 in c:\\users\\arman\\appdata\\local\\programs\\python\\python311\\lib\\site-packages (from transformers) (2023.10.3)\n",
            "Requirement already satisfied: requests in c:\\users\\arman\\appdata\\local\\programs\\python\\python311\\lib\\site-packages (from transformers) (2.31.0)\n",
            "Requirement already satisfied: tokenizers<0.15,>=0.14 in c:\\users\\arman\\appdata\\local\\programs\\python\\python311\\lib\\site-packages (from transformers) (0.14.1)\n",
            "Requirement already satisfied: safetensors>=0.3.1 in c:\\users\\arman\\appdata\\local\\programs\\python\\python311\\lib\\site-packages (from transformers) (0.4.0)\n",
            "Requirement already satisfied: tqdm>=4.27 in c:\\users\\arman\\appdata\\local\\programs\\python\\python311\\lib\\site-packages (from transformers) (4.66.1)\n",
            "Requirement already satisfied: fsspec in c:\\users\\arman\\appdata\\local\\programs\\python\\python311\\lib\\site-packages (from huggingface-hub<1.0,>=0.16.4->transformers) (2023.9.2)\n",
            "Requirement already satisfied: typing-extensions>=3.7.4.3 in c:\\users\\arman\\appdata\\local\\programs\\python\\python311\\lib\\site-packages (from huggingface-hub<1.0,>=0.16.4->transformers) (4.4.0)\n",
            "Requirement already satisfied: colorama in c:\\users\\arman\\appdata\\local\\programs\\python\\python311\\lib\\site-packages (from tqdm>=4.27->transformers) (0.4.6)\n",
            "Requirement already satisfied: charset-normalizer<4,>=2 in c:\\users\\arman\\appdata\\local\\programs\\python\\python311\\lib\\site-packages (from requests->transformers) (2.1.1)\n",
            "Requirement already satisfied: idna<4,>=2.5 in c:\\users\\arman\\appdata\\local\\programs\\python\\python311\\lib\\site-packages (from requests->transformers) (3.4)\n",
            "Requirement already satisfied: urllib3<3,>=1.21.1 in c:\\users\\arman\\appdata\\local\\programs\\python\\python311\\lib\\site-packages (from requests->transformers) (1.26.13)\n",
            "Requirement already satisfied: certifi>=2017.4.17 in c:\\users\\arman\\appdata\\local\\programs\\python\\python311\\lib\\site-packages (from requests->transformers) (2022.12.7)\n",
            "Requirement already satisfied: yfinance in c:\\users\\arman\\appdata\\local\\programs\\python\\python311\\lib\\site-packages (0.2.31)\n",
            "Requirement already satisfied: pandas>=1.3.0 in c:\\users\\arman\\appdata\\local\\programs\\python\\python311\\lib\\site-packages (from yfinance) (2.1.0)\n",
            "Requirement already satisfied: numpy>=1.16.5 in c:\\users\\arman\\appdata\\local\\programs\\python\\python311\\lib\\site-packages (from yfinance) (1.24.1)\n",
            "Requirement already satisfied: requests>=2.31 in c:\\users\\arman\\appdata\\local\\programs\\python\\python311\\lib\\site-packages (from yfinance) (2.31.0)\n",
            "Requirement already satisfied: multitasking>=0.0.7 in c:\\users\\arman\\appdata\\local\\programs\\python\\python311\\lib\\site-packages (from yfinance) (0.0.11)\n",
            "Requirement already satisfied: lxml>=4.9.1 in c:\\users\\arman\\appdata\\local\\programs\\python\\python311\\lib\\site-packages (from yfinance) (4.9.3)\n",
            "Requirement already satisfied: appdirs>=1.4.4 in c:\\users\\arman\\appdata\\local\\programs\\python\\python311\\lib\\site-packages (from yfinance) (1.4.4)\n",
            "Requirement already satisfied: pytz>=2022.5 in c:\\users\\arman\\appdata\\local\\programs\\python\\python311\\lib\\site-packages (from yfinance) (2023.3)\n",
            "Requirement already satisfied: frozendict>=2.3.4 in c:\\users\\arman\\appdata\\local\\programs\\python\\python311\\lib\\site-packages (from yfinance) (2.3.8)\n",
            "Requirement already satisfied: peewee>=3.16.2 in c:\\users\\arman\\appdata\\local\\programs\\python\\python311\\lib\\site-packages (from yfinance) (3.16.3)\n",
            "Requirement already satisfied: beautifulsoup4>=4.11.1 in c:\\users\\arman\\appdata\\local\\programs\\python\\python311\\lib\\site-packages (from yfinance) (4.12.2)\n",
            "Requirement already satisfied: html5lib>=1.1 in c:\\users\\arman\\appdata\\local\\programs\\python\\python311\\lib\\site-packages (from yfinance) (1.1)\n",
            "Requirement already satisfied: soupsieve>1.2 in c:\\users\\arman\\appdata\\local\\programs\\python\\python311\\lib\\site-packages (from beautifulsoup4>=4.11.1->yfinance) (2.5)\n",
            "Requirement already satisfied: six>=1.9 in c:\\users\\arman\\appdata\\local\\programs\\python\\python311\\lib\\site-packages (from html5lib>=1.1->yfinance) (1.16.0)\n",
            "Requirement already satisfied: webencodings in c:\\users\\arman\\appdata\\local\\programs\\python\\python311\\lib\\site-packages (from html5lib>=1.1->yfinance) (0.5.1)\n",
            "Requirement already satisfied: python-dateutil>=2.8.2 in c:\\users\\arman\\appdata\\local\\programs\\python\\python311\\lib\\site-packages (from pandas>=1.3.0->yfinance) (2.8.2)\n",
            "Requirement already satisfied: tzdata>=2022.1 in c:\\users\\arman\\appdata\\local\\programs\\python\\python311\\lib\\site-packages (from pandas>=1.3.0->yfinance) (2023.3)\n",
            "Requirement already satisfied: charset-normalizer<4,>=2 in c:\\users\\arman\\appdata\\local\\programs\\python\\python311\\lib\\site-packages (from requests>=2.31->yfinance) (2.1.1)\n",
            "Requirement already satisfied: idna<4,>=2.5 in c:\\users\\arman\\appdata\\local\\programs\\python\\python311\\lib\\site-packages (from requests>=2.31->yfinance) (3.4)\n",
            "Requirement already satisfied: urllib3<3,>=1.21.1 in c:\\users\\arman\\appdata\\local\\programs\\python\\python311\\lib\\site-packages (from requests>=2.31->yfinance) (1.26.13)\n",
            "Requirement already satisfied: certifi>=2017.4.17 in c:\\users\\arman\\appdata\\local\\programs\\python\\python311\\lib\\site-packages (from requests>=2.31->yfinance) (2022.12.7)\n",
            "Requirement already satisfied: pandas in c:\\users\\arman\\appdata\\local\\programs\\python\\python311\\lib\\site-packages (2.1.0)\n",
            "Requirement already satisfied: numpy>=1.23.2 in c:\\users\\arman\\appdata\\local\\programs\\python\\python311\\lib\\site-packages (from pandas) (1.24.1)\n",
            "Requirement already satisfied: python-dateutil>=2.8.2 in c:\\users\\arman\\appdata\\local\\programs\\python\\python311\\lib\\site-packages (from pandas) (2.8.2)\n",
            "Requirement already satisfied: pytz>=2020.1 in c:\\users\\arman\\appdata\\local\\programs\\python\\python311\\lib\\site-packages (from pandas) (2023.3)\n",
            "Requirement already satisfied: tzdata>=2022.1 in c:\\users\\arman\\appdata\\local\\programs\\python\\python311\\lib\\site-packages (from pandas) (2023.3)\n",
            "Requirement already satisfied: six>=1.5 in c:\\users\\arman\\appdata\\local\\programs\\python\\python311\\lib\\site-packages (from python-dateutil>=2.8.2->pandas) (1.16.0)\n",
            "Requirement already satisfied: numpy in c:\\users\\arman\\appdata\\local\\programs\\python\\python311\\lib\\site-packages (1.24.1)\n",
            "Requirement already satisfied: matplotlib in c:\\users\\arman\\appdata\\local\\programs\\python\\python311\\lib\\site-packages (3.8.0)\n",
            "Requirement already satisfied: contourpy>=1.0.1 in c:\\users\\arman\\appdata\\local\\programs\\python\\python311\\lib\\site-packages (from matplotlib) (1.1.1)\n",
            "Requirement already satisfied: cycler>=0.10 in c:\\users\\arman\\appdata\\local\\programs\\python\\python311\\lib\\site-packages (from matplotlib) (0.12.1)\n",
            "Requirement already satisfied: fonttools>=4.22.0 in c:\\users\\arman\\appdata\\local\\programs\\python\\python311\\lib\\site-packages (from matplotlib) (4.43.1)\n",
            "Requirement already satisfied: kiwisolver>=1.0.1 in c:\\users\\arman\\appdata\\local\\programs\\python\\python311\\lib\\site-packages (from matplotlib) (1.4.5)\n",
            "Requirement already satisfied: numpy<2,>=1.21 in c:\\users\\arman\\appdata\\local\\programs\\python\\python311\\lib\\site-packages (from matplotlib) (1.24.1)\n",
            "Requirement already satisfied: packaging>=20.0 in c:\\users\\arman\\appdata\\local\\programs\\python\\python311\\lib\\site-packages (from matplotlib) (23.1)\n",
            "Requirement already satisfied: pillow>=6.2.0 in c:\\users\\arman\\appdata\\local\\programs\\python\\python311\\lib\\site-packages (from matplotlib) (9.3.0)\n",
            "Requirement already satisfied: pyparsing>=2.3.1 in c:\\users\\arman\\appdata\\local\\programs\\python\\python311\\lib\\site-packages (from matplotlib) (3.1.1)\n",
            "Requirement already satisfied: python-dateutil>=2.7 in c:\\users\\arman\\appdata\\local\\programs\\python\\python311\\lib\\site-packages (from matplotlib) (2.8.2)\n",
            "Requirement already satisfied: six>=1.5 in c:\\users\\arman\\appdata\\local\\programs\\python\\python311\\lib\\site-packages (from python-dateutil>=2.7->matplotlib) (1.16.0)\n"
          ]
        }
      ],
      "source": [
        "!pip install transformers\n",
        "import torch\n",
        "!pip install yfinance\n",
        "!pip install pandas\n",
        "!pip install numpy\n",
        "!pip install matplotlib\n"
      ]
    },
    {
      "cell_type": "code",
      "execution_count": null,
      "metadata": {
        "id": "7J9GFLvJDLG0",
        "outputId": "69386489-c558-41b1-b290-6d4b7be448c0"
      },
      "outputs": [
        {
          "name": "stderr",
          "output_type": "stream",
          "text": [
            "c:\\Users\\arman\\AppData\\Local\\Programs\\Python\\Python311\\Lib\\site-packages\\tqdm\\auto.py:21: TqdmWarning: IProgress not found. Please update jupyter and ipywidgets. See https://ipywidgets.readthedocs.io/en/stable/user_install.html\n",
            "  from .autonotebook import tqdm as notebook_tqdm\n"
          ]
        }
      ],
      "source": [
        "import yfinance as yf\n",
        "import pandas as pd\n",
        "import numpy as np\n",
        "import matplotlib.pyplot as plt\n",
        "from transformers import BertTokenizer, BertForSequenceClassification\n",
        "from transformers import pipeline"
      ]
    },
    {
      "cell_type": "code",
      "execution_count": null,
      "metadata": {
        "colab": {
          "base_uri": "https://localhost:8080/"
        },
        "id": "CdFM1DJGEozB",
        "outputId": "d0f0d49a-c340-43ad-b3b0-f810b14c854b"
      },
      "outputs": [
        {
          "name": "stdout",
          "output_type": "stream",
          "text": [
            "[*********************100%%**********************]  1 of 1 completed\n"
          ]
        }
      ],
      "source": [
        "stock_symbol = 'AAPL'\n",
        "start_date = '2020-01-01'\n",
        "end_date = '2021-12-31'\n",
        "\n",
        "stock_data = yf.download(stock_symbol, start=start_date, end=end_date)"
      ]
    },
    {
      "cell_type": "code",
      "execution_count": null,
      "metadata": {
        "id": "p5A2wZZeEqtt"
      },
      "outputs": [],
      "source": [
        "tokenizer = BertTokenizer.from_pretrained('yiyanghkust/finbert-tone', do_lower_case=False)\n",
        "model = BertForSequenceClassification.from_pretrained('yiyanghkust/finbert-tone')\n",
        "sentiment_analyzer = pipeline('sentiment-analysis', model=model, tokenizer=tokenizer)"
      ]
    },
    {
      "cell_type": "code",
      "execution_count": null,
      "metadata": {
        "id": "N4rQ19ANTBgU"
      },
      "outputs": [],
      "source": [
        "news_headlines = [\n",
        "    \"Apple shutdowns\",\n",
        "    \"Apple in huge loss\",\n",
        "    \"Apple stocks price fall to 0\",\n",
        "]\n",
        "\n",
        "sentiments = sentiment_analyzer(news_headlines)"
      ]
    },
    {
      "cell_type": "code",
      "execution_count": null,
      "metadata": {
        "colab": {
          "base_uri": "https://localhost:8080/",
          "height": 865
        },
        "id": "L9KJvOo6J3Sn",
        "outputId": "b1b3aab6-ad0c-46ff-8049-11dddec10dfc"
      },
      "outputs": [
        {
          "name": "stdout",
          "output_type": "stream",
          "text": [
            "[*********************100%%**********************]  1 of 1 completed\n",
            "                 Date       Close\n",
            "Date                             \n",
            "2023-01-03 2023-01-03  124.538658\n",
            "2023-01-04 2023-01-04  125.823189\n",
            "2023-01-05 2023-01-05  124.488869\n",
            "2023-01-06 2023-01-06  129.069336\n",
            "2023-01-09 2023-01-09  129.597076\n",
            "2023-01-10 2023-01-10  130.174622\n",
            "2023-01-11 2023-01-11  132.922897\n",
            "2023-01-12 2023-01-12  132.843246\n",
            "2023-01-13 2023-01-13  134.187500\n",
            "2023-01-17 2023-01-17  135.362488\n",
            "2023-01-18 2023-01-18  134.635590\n",
            "2023-01-19 2023-01-19  134.695343\n",
            "2023-01-20 2023-01-20  137.284286\n",
            "2023-01-23 2023-01-23  140.510529\n",
            "2023-01-24 2023-01-24  141.924484\n",
            "2023-01-25 2023-01-25  141.257339\n",
            "2023-01-26 2023-01-26  143.348419\n",
            "2023-01-27 2023-01-27  145.310028\n",
            "2023-01-30 2023-01-30  142.392502\n",
            "        Date                                    Sentiment Score\n",
            "0 2023-01-03  {'label': 'Positive', 'score': 0.9999994039535...\n",
            "1 2023-01-04   {'label': 'Neutral', 'score': 0.722366213798523}\n",
            "2 2023-01-05  {'label': 'Negative', 'score': 0.9999991655349...\n"
          ]
        },
        {
          "data": {
            "image/png": "[encoded data removed]",
            "text/plain": [
              "<Figure size 1200x600 with 1 Axes>"
            ]
          },
          "metadata": {},
          "output_type": "display_data"
        }
      ],
      "source": [
        "import pandas as pd\n",
        "import yfinance as yf\n",
        "from transformers import BertTokenizer, BertForSequenceClassification\n",
        "from transformers import pipeline\n",
        "import matplotlib.pyplot as plt\n",
        "\n",
        "# Fetch Apple stock price data from Yahoo Finance\n",
        "start_date = '2023-01-01'\n",
        "end_date = '2023-01-31'\n",
        "apple_data = yf.download('AAPL', start=start_date, end=end_date)\n",
        "\n",
        "# Create a DataFrame with the Date and Close columns\n",
        "stock_data = pd.DataFrame({\n",
        "    'Date': apple_data.index,  # This assumes that 'Date' is already the index\n",
        "    'Close': apple_data['Adj Close']\n",
        "})\n",
        "\n",
        "# Initialize the finbert-tone model\n",
        "tokenizer = BertTokenizer.from_pretrained('yiyanghkust/finbert-tone', do_lower_case=False)\n",
        "model = BertForSequenceClassification.from_pretrained('yiyanghkust/finbert-tone')\n",
        "sentiment_analyzer = pipeline('sentiment-analysis', model=model, tokenizer=tokenizer)\n",
        "\n",
        "# Example news headlines\n",
        "news_headlines = [\n",
        "    \"Apple announces record earnings\",\n",
        "    \"Apple's new product receives mixed reviews\",\n",
        "    \"Investors worried about Apple's growth prospects\"\n",
        "]\n",
        "\n",
        "# Analyze the sentiment of news headlines using 'finbert-tone'\n",
        "sentiment_scores = [sentiment_analyzer(headline)[0] for headline in news_headlines]\n",
        "print(stock_data)\n",
        "#print(sentiment_scores)\n",
        "# Create a DataFrame for sentiment data\n",
        "sentiment_data = pd.DataFrame({\n",
        "    'Date': stock_data.index[:len(sentiment_scores)],  # Use the DataFrame index\n",
        "    'Sentiment Score': sentiment_scores\n",
        "})\n",
        "print(sentiment_data)\n",
        "\n",
        "# Merge stock and sentiment data based on the Date\n",
        "merged_data = pd.merge(stock_data, sentiment_data, left_index=True, right_index=True, how='outer')\n",
        "#merged_data = stock_data.merge(sentiment_data, on='Date', how='inner')#\n",
        "#print(merged_data)\n",
        "# Visualize the data\n",
        "\n",
        "def extract_score(x):\n",
        "    if isinstance(x, dict) and 'score' in x:\n",
        "        return x['score']\n",
        "    else:\n",
        "        return None\n",
        "\n",
        "merged_data['Numeric Sentiment Score'] = merged_data['Sentiment Score'].apply(extract_score)\n",
        "\n",
        "\n",
        "plt.figure(figsize=(12, 6))\n",
        "plt.plot(merged_data.index, merged_data['Close'], label='Apple Stock Price', color='blue')\n",
        "plt.plot(merged_data.index, merged_data['Numeric Sentiment Score'], label='Sentiment Score', color='orange')\n",
        "plt.title('Apple Stock Price vs. Sentiment Score')\n",
        "plt.xlabel('Date')\n",
        "plt.ylabel('Value')\n",
        "plt.legend()\n",
        "plt.grid(True)\n",
        "\n",
        "# Show the plot\n",
        "plt.show()\n"
      ]
    },
    {
      "cell_type": "code",
      "execution_count": null,
      "metadata": {
        "id": "-Fc6ZCKKIKqj"
      },
      "outputs": [],
      "source": [
        "# !pip install finbert\n",
        "# !git clone https://github.com/yya518/FinBERT.git\n",
        "# from FinBERT.finbert import predict\n",
        "# import os\n",
        "\n",
        "# # Set the MODEL_DIR environment variable\n",
        "# os.environ['MODEL_DIR'] = '/content/FinBERT/models/sentiment'\n",
        "# import pandas as pd\n",
        "# import numpy as np\n",
        "# import yfinance as yf\n",
        "# import matplotlib.pyplot as plt\n",
        "# #from finbert import Finbert\n",
        "\n",
        "# # Define the date range for stock data\n",
        "# start_date = '2023-01-01'\n",
        "# end_date = '2023-01-31'\n",
        "\n",
        "# # Fetch Apple stock price data from Yahoo Finance\n",
        "# apple_data = yf.download('AAPL', start=start_date, end=end_date)\n",
        "\n",
        "# # Create a DataFrame with the Date and Close columns\n",
        "# stock_data = pd.DataFrame({\n",
        "#     'Date': apple_data.index,\n",
        "#     'Close': apple_data['Adj Close']\n",
        "# })\n",
        "\n",
        "# # Simulate news headlines sentiment scores (you should replace this with actual sentiment analysis)\n",
        "# news_headlines = [\n",
        "#     \"Apple announces record earnings\",\n",
        "#     \"Apple's new product receives mixed reviews\",\n",
        "#     \"Investors worried about Apple's growth prospects\"\n",
        "# ]\n",
        "# finbert = Finbert()\n",
        "# sentiment_scores = [finbert.predict(i) for i in news_headlines]\n",
        "\n",
        "# # Create a DataFrame for sentiment data\n",
        "# sentiment_data = pd.DataFrame({\n",
        "#     'Date': stock_data['Date'].values[:len(sentiment_scores)],\n",
        "#     'Sentiment Score': sentiment_scores\n",
        "# })\n",
        "\n",
        "# # Merge stock and sentiment data based on the Date\n",
        "# merged_data = pd.merge(stock_data, sentiment_data, on='Date', how='inner')\n",
        "\n",
        "# # Visualize the data\n",
        "# plt.figure(figsize=(12, 6))\n",
        "# plt.plot(merged_data['Date'], merged_data['Close'], label='Apple Stock Price', color='blue')\n",
        "# plt.plot(merged_data['Date'], merged_data['Sentiment Score'], label='Sentiment Score', color='orange')\n",
        "# plt.title('Apple Stock Price vs. Sentiment Score')\n",
        "# plt.xlabel('Date')\n",
        "# plt.ylabel('Value')\n",
        "# plt.legend()\n",
        "# plt.grid(True)\n",
        "\n",
        "# # Show the plot\n",
        "# plt.show()\n"
      ]
    },
    {
      "cell_type": "code",
      "execution_count": null,
      "metadata": {
        "id": "JF3FXwIdTBys"
      },
      "outputs": [],
      "source": [
        "# import pandas as pd\n",
        "# import numpy as np\n",
        "# import yfinance as yf\n",
        "\n",
        "# # Define the date range\n",
        "# start_date = '2023-01-01'\n",
        "# end_date = '2023-01-31'  # Adjust this to your desired end date\n",
        "\n",
        "# # Fetch Apple stock price data from Yahoo Finance\n",
        "# apple_data = yf.download('AAPL', start=start_date, end=end_date)\n",
        "# # Example sentiment data as a list of dictionaries (you need to provide this data)\n",
        "\n",
        "# # Initialize an empty list for sentiment scores\n",
        "# average_sentiments = []\n",
        "\n",
        "# # Iterate through the list of sentiments\n",
        "# for sentiment in sentiments:\n",
        "#     try:\n",
        "#         # Calculate the average sentiment score for each sentiment\n",
        "#         average_score = np.mean([s['score'] for s in sentiment])\n",
        "#         average_sentiments.append(average_score)\n",
        "#     except (TypeError, KeyError):\n",
        "#         # Handle cases where sentiment is not as expected\n",
        "#         average_sentiments.append(np.nan)  # Use NaN for missing or invalid data\n",
        "\n",
        "# # Create a placeholder DataFrame for stock_data (replace with your actual data)\n",
        "# stock_data = pd.DataFrame({\n",
        "#     'Date': apple_data.index,  # Date as the index of apple_data\n",
        "#     'Close': apple_data['Adj Close']  # Adjusted Close Price\n",
        "#     # You can add more columns as needed\n",
        "# })\n",
        "\n",
        "# print(stock_data)\n",
        "\n",
        "# #plt.figure(figsize=(12, 6))\n",
        "# #plt.plot(stock_data['Date'], stock_data['Close'], label='Apple Stock Price')\n",
        "#plt.title('Apple Stock Price in January 2023')\n",
        "#plt.xlabel('Date')\n",
        "#plt.ylabel('Stock Price (USD)')\n",
        "#plt.legend()\n",
        "#plt.grid(True)\n",
        "\n",
        "\n",
        "#stock_data['Sentiment'] = average_sentiments\n",
        "\n",
        "\n",
        "# Plot stock prices and sentiment scores\n",
        "#plt.figure(figsize=(12, 6))\n",
        "#plt.subplot(2, 1, 1)\n",
        "#plt.plot(stock_data['Close'], label=f'{stock_symbol} Stock Price', color='b')\n",
        "#plt.title(f'{stock_symbol} Stock Price')\n",
        "#plt.legend(loc='upper left')\n",
        "\n",
        "#plt.subplot(2, 1, 2)\n",
        "#plt.plot(stock_data.index, stock_data['Sentiment'], label='Sentiment Score', color='g')\n",
        "#plt.title('News Sentiment Score')\n",
        "#plt.legend(loc='upper left')\n",
        "\n",
        "#plt.tight_layout()\n",
        "#plt.show()\n"
      ]
    },
    {
      "cell_type": "code",
      "execution_count": null,
      "metadata": {
        "id": "wGBo7NZs7lg6"
      },
      "outputs": [],
      "source": []
    }
  ],
  "metadata": {
    "colab": {
      "provenance": [],
      "include_colab_link": true
    },
    "kernelspec": {
      "display_name": "Python 3 (ipykernel)",
      "language": "python",
      "name": "python3"
    },
    "language_info": {
      "codemirror_mode": {
        "name": "ipython",
        "version": 3
      },
      "file_extension": ".py",
      "mimetype": "text/x-python",
      "name": "python",
      "nbconvert_exporter": "python",
      "pygments_lexer": "ipython3",
      "version": "3.11.4"
    }
  },
  "nbformat": 4,
  "nbformat_minor": 0
}