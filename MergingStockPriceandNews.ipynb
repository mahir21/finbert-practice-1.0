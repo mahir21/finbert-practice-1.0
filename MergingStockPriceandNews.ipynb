{
  "nbformat": 4,
  "nbformat_minor": 0,
  "metadata": {
    "colab": {
      "provenance": [],
      "authorship_tag": "ABX9TyO84k/piy18HF2NUMxo9EEh",
      "include_colab_link": true
    },
    "kernelspec": {
      "name": "python3",
      "display_name": "Python 3"
    },
    "language_info": {
      "name": "python"
    }
  },
  "cells": [
    {
      "cell_type": "markdown",
      "metadata": {
        "id": "view-in-github",
        "colab_type": "text"
      },
      "source": [
        "<a href=\"https://colab.research.google.com/github/mahir21/finbert-practice-1.0/blob/main/MergingStockPriceandNews.ipynb\" target=\"_parent\"><img src=\"https://colab.research.google.com/assets/colab-badge.svg\" alt=\"Open In Colab\"/></a>"
      ]
    },
    {
      "cell_type": "code",
      "execution_count": 2,
      "metadata": {
        "id": "kGIrD49rqaqd"
      },
      "outputs": [],
      "source": [
        "import pandas as pd\n"
      ]
    },
    {
      "cell_type": "code",
      "source": [
        "#Loading the dataset values\n",
        "stock_price_df = pd.read_csv(\"CityBankStock.csv\")\n",
        "news_df= pd.read_csv(\"CityBankNews\")\n",
        "\n",
        "#Standardizing the date formats and merging the stock prices\n",
        "stock_price_df['Date'] = pd.to_datetime(stock_price_df['Date'], dayfirst = True)\n",
        "news_df['Date'] = pd.to_datetime(stock_price_df['Date'], dayfirst = True)\n",
        "\n",
        "#Merging the datasets on dataColumn\n",
        "merged_df = pd.merge(stock_price_df,news_df,on='Date',how='inner')\n"
      ],
      "metadata": {
        "colab": {
          "base_uri": "https://localhost:8080/"
        },
        "id": "25rgsIfAqosR",
        "outputId": "0ae19f03-210d-4aa4-de6c-f6b58556f67e"
      },
      "execution_count": 7,
      "outputs": [
        {
          "output_type": "stream",
          "name": "stderr",
          "text": [
            "<ipython-input-7-4fb9b6c4aaf4>:6: UserWarning: Parsing dates in MM/DD/YYYY format when dayfirst=True was specified. This may lead to inconsistently parsed dates! Specify a format to ensure consistent parsing.\n",
            "  stock_price_df['Date'] = pd.to_datetime(stock_price_df['Date'], dayfirst = True)\n"
          ]
        }
      ]
    },
    {
      "cell_type": "code",
      "source": [
        "#this code will download the merged csv file\n",
        "from google.colab import files\n",
        "\n",
        "#Converting the merged dataframe into a csv file format, change the name of the file accordingly\n",
        "merged_df.to_csv('merged_CityBankdataset.csv', index=False)\n",
        "\n",
        "#saved the merged files to dataframe\n",
        "files.download('merged_CityBankdataset.csv')"
      ],
      "metadata": {
        "colab": {
          "base_uri": "https://localhost:8080/",
          "height": 17
        },
        "id": "EiQjcHymt07_",
        "outputId": "8039c8bf-202f-4a2f-9662-2b40a503ab81"
      },
      "execution_count": 11,
      "outputs": [
        {
          "output_type": "display_data",
          "data": {
            "text/plain": [
              "<IPython.core.display.Javascript object>"
            ],
            "application/javascript": [
              "\n",
              "    async function download(id, filename, size) {\n",
              "      if (!google.colab.kernel.accessAllowed) {\n",
              "        return;\n",
              "      }\n",
              "      const div = document.createElement('div');\n",
              "      const label = document.createElement('label');\n",
              "      label.textContent = `Downloading \"${filename}\": `;\n",
              "      div.appendChild(label);\n",
              "      const progress = document.createElement('progress');\n",
              "      progress.max = size;\n",
              "      div.appendChild(progress);\n",
              "      document.body.appendChild(div);\n",
              "\n",
              "      const buffers = [];\n",
              "      let downloaded = 0;\n",
              "\n",
              "      const channel = await google.colab.kernel.comms.open(id);\n",
              "      // Send a message to notify the kernel that we're ready.\n",
              "      channel.send({})\n",
              "\n",
              "      for await (const message of channel.messages) {\n",
              "        // Send a message to notify the kernel that we're ready.\n",
              "        channel.send({})\n",
              "        if (message.buffers) {\n",
              "          for (const buffer of message.buffers) {\n",
              "            buffers.push(buffer);\n",
              "            downloaded += buffer.byteLength;\n",
              "            progress.value = downloaded;\n",
              "          }\n",
              "        }\n",
              "      }\n",
              "      const blob = new Blob(buffers, {type: 'application/binary'});\n",
              "      const a = document.createElement('a');\n",
              "      a.href = window.URL.createObjectURL(blob);\n",
              "      a.download = filename;\n",
              "      div.appendChild(a);\n",
              "      a.click();\n",
              "      div.remove();\n",
              "    }\n",
              "  "
            ]
          },
          "metadata": {}
        },
        {
          "output_type": "display_data",
          "data": {
            "text/plain": [
              "<IPython.core.display.Javascript object>"
            ],
            "application/javascript": [
              "download(\"download_9a12505b-1488-4ada-b0e7-459bd7fce169\", \"merged_CityBankdataset.csv\", 140151)"
            ]
          },
          "metadata": {}
        }
      ]
    }
  ]
}