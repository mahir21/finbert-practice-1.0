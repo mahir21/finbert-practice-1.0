{
  "cells": [
    {
      "cell_type": "code",
      "execution_count": 31,
      "metadata": {
        "id": "kBPnzCcyQ-Fs"
      },
      "outputs": [],
      "source": [
        "from bdshare import get_agm_news, get_all_news\n",
        "import pandas as pd\n",
        "import datetime as dt\n",
        "\n",
        "import torch\n",
        "from transformers import AutoTokenizer, AutoModelForSequenceClassification\n",
        "# Define the FinBERT model and tokenizer\n",
        "model_name = \"ProsusAI/finbert\"\n",
        "tokenizer = AutoTokenizer.from_pretrained(model_name)\n",
        "model = AutoModelForSequenceClassification.from_pretrained(model_name)\n",
        "\n",
        "\n",
        "code = 'EBL' # IMPORTANT READ THIS. Change this to the DSE code for the specified stock\n",
        "filename = f\"{code}.csv\"\n",
        "\n",
        "\n",
        "def get_all_news_today():\n",
        "        end = dt.datetime.now().date()\n",
        "        df = get_all_news(code)\n",
        "        df[\"News\"] = df[\"News\"].shift(-1)\n",
        "        df[\"Post Date\"] = df[\"Post Date\"].shift(-2)      \n",
        "        return df"
      ]
    },
    {
      "cell_type": "code",
      "execution_count": 32,
      "metadata": {},
      "outputs": [],
      "source": [
        "df = get_all_news_today().dropna(axis = 0, how=\"any\")\n"
      ]
    },
    {
      "cell_type": "code",
      "execution_count": 33,
      "metadata": {},
      "outputs": [],
      "source": [
        "def sentiment_analysis(text):\n",
        "    encoded_inputs = tokenizer(text, return_tensors=\"pt\")\n",
        "    outputs = model(**encoded_inputs)\n",
        "    logits = outputs.logits\n",
        "\n",
        "    predicted_label = torch.argmax(logits, dim=-1).item()\n",
        "    confidence_scores = torch.softmax(logits, dim=-1).detach().cpu().numpy().flatten()  # Flatten the array\n",
        "\n",
        "    sentiment_labels = {0: \"Positive\", 1: \"Negative\", 2: \"Neutral\"}\n",
        "\n",
        "    return sentiment_labels[predicted_label], *confidence_scores  # Unpack the confidence scores as separate argument"
      ]
    },
    {
      "cell_type": "code",
      "execution_count": 34,
      "metadata": {},
      "outputs": [],
      "source": [
        "# Apply the sentiment analysis function to the \"News\" column\n",
        "df[\"Sentiment analysis\"] = df[\"News\"].apply(sentiment_analysis)\n",
        "\n",
        "# Extract the sentiment and confidence scores\n",
        "df[\"Sentiment\"] = df[\"Sentiment analysis\"].apply(lambda x: x[0])\n",
        "df[\"Confidence_score_Positive\"] = df[\"Sentiment analysis\"].apply(lambda x: x[1])\n",
        "df[\"Confidence_score_Negative\"] = df[\"Sentiment analysis\"].apply(lambda x: x[2])\n",
        "df[\"Confidence_score_Neutral\"] = df[\"Sentiment analysis\"].apply(lambda x: x[3])\n",
        "\n",
        "# Drop the \"Sentiment analysis\" column if you don't need it anymore\n",
        "df.drop(\"Sentiment analysis\", axis=1, inplace=True)\n",
        "df.to_csv(filename, index=False)"
      ]
    },
    {
      "cell_type": "code",
      "execution_count": 35,
      "metadata": {},
      "outputs": [
        {
          "name": "stdout",
          "output_type": "stream",
          "text": [
            "Merged CSV file 'Merged_EBL.csv' saved successfully.\n"
          ]
        }
      ],
      "source": [
        "\n",
        "df_one = pd.read_csv('ENBK.csv') #IMPORTANT READ this, choose the filename according to the stock filename present that you downloaded corresponding to the DSE code\n",
        "df_two = pd.read_csv(filename)\n",
        "if 'News Title' in df_two.columns:\n",
        "    df_two.drop(columns=['News Title'], inplace=True)\n",
        "# Convert \"Date\" column to string format in both DataFrames\n",
        "df_one['Date'] = pd.to_datetime(df_one['Date']).dt.strftime('%Y-%m-%d')\n",
        "df_two['Post Date'] = pd.to_datetime(df_two['Post Date']).dt.strftime('%Y-%m-%d')\n",
        "\n",
        "# Rename columns in df_two to match the expected column names\n",
        "df_two.rename(columns={'Post Date': 'Date'}, inplace=True)\n",
        "\n",
        "# Merge based on \"Date\" column, keeping only matching dates\n",
        "merged_df = pd.merge(df_one, df_two, on='Date', how='inner')\n",
        "merged_df.rename(columns={'News': 'Content'}, inplace=True)\n",
        "\n",
        "# Save the merged DataFrame to a new CSV file\n",
        "merged_filename = f\"Merged_{code}.csv\"\n",
        "merged_df.to_csv(merged_filename, index=False)\n",
        "\n",
        "print(f\"Merged CSV file '{merged_filename}' saved successfully.\")\n"
      ]
    }
  ],
  "metadata": {
    "accelerator": "GPU",
    "colab": {
      "collapsed_sections": [],
      "name": "LSTM_DSE_FORECAST_tensorflow_latest.ipynb",
      "provenance": []
    },
    "kernelspec": {
      "display_name": "Python 3",
      "language": "python",
      "name": "python3"
    },
    "language_info": {
      "codemirror_mode": {
        "name": "ipython",
        "version": 3
      },
      "file_extension": ".py",
      "mimetype": "text/x-python",
      "name": "python",
      "nbconvert_exporter": "python",
      "pygments_lexer": "ipython3",
      "version": "3.11.5"
    }
  },
  "nbformat": 4,
  "nbformat_minor": 0
}
